{
 "cells": [
  {
   "cell_type": "markdown",
   "metadata": {},
   "source": [
    "## Operadores - Actividad"
   ]
  },
  {
   "cell_type": "markdown",
   "metadata": {},
   "source": [
    "1) Pedir al usuario dos números y mostrar por pantalla la suma de ellos."
   ]
  },
  {
   "cell_type": "code",
   "execution_count": 6,
   "metadata": {},
   "outputs": [
    {
     "name": "stdout",
     "output_type": "stream",
     "text": [
      " 40\n"
     ]
    }
   ],
   "source": [
    "numero1= int(input(\"introducir un numero 1\"))\n",
    "numero2= int(input(\"introducir un numero 2\"))\n",
    "suma= numero1+numero2\n",
    "print(\"\",suma)\n"
   ]
  },
  {
   "cell_type": "markdown",
   "metadata": {},
   "source": [
    "2) Calcular el perímetro y área de un rectángulo dada su base y su altura (el usuario debe introducir por teclado los dos valores)."
   ]
  },
  {
   "cell_type": "code",
   "execution_count": 9,
   "metadata": {},
   "outputs": [
    {
     "name": "stdout",
     "output_type": "stream",
     "text": [
      "rectangulo - perimetro; 18 area: 20\n"
     ]
    }
   ],
   "source": [
    "lado1= int(input(\"introducir un lado 1\"))\n",
    "lado2= int(input(\"introducir un lado 2\"))\n",
    "perimetro= (lado1+lado2)*2\n",
    "area=lado1*lado2\n",
    "print (\"rectangulo - perimetro;\",perimetro,\"area:\",area)"
   ]
  },
  {
   "cell_type": "markdown",
   "metadata": {},
   "source": [
    "3) Calcular el resultado de elevar un número entero a otro número entero (por ejemplo, 5 elevado a 3 = 5^3 = 5*5*5)."
   ]
  },
  {
   "cell_type": "code",
   "execution_count": 12,
   "metadata": {},
   "outputs": [
    {
     "name": "stdout",
     "output_type": "stream",
     "text": [
      "el numero  4 elevado 4 es igual a  256\n"
     ]
    }
   ],
   "source": [
    "numero= int(input(\"introducir un numero\"))\n",
    "exponente= int(input(\"introducir el exponente\"))\n",
    "\n",
    "numerototal=numero**exponente\n",
    "print(\"el numero \", numero, \"elevado a la \", exponente, \"es igual a:\", numerototal)"
   ]
  },
  {
   "cell_type": "markdown",
   "metadata": {},
   "source": [
    "4) Escribe un programa que convierta grados Celsius a grados Fahrenheit utilizando la fórmula: **F = (C * 9/5) + 32**"
   ]
  },
  {
   "cell_type": "code",
   "execution_count": 14,
   "metadata": {},
   "outputs": [
    {
     "name": "stdout",
     "output_type": "stream",
     "text": [
      "la temperatura en grados farenheit es 55.4\n"
     ]
    }
   ],
   "source": [
    "numero= float(input(\"introducir un grados celcius\"))\n",
    "\n",
    "F=(numero*9/5)+32\n",
    "print(\"la temperatura en grados farenheit es\",F)"
   ]
  },
  {
   "cell_type": "markdown",
   "metadata": {},
   "source": [
    "5) Pedir al usuario su edad y mostrar por pantalla si es mayor de edad o no. (Mayor de edad >= 18)"
   ]
  },
  {
   "cell_type": "code",
   "execution_count": 20,
   "metadata": {},
   "outputs": [
    {
     "name": "stdout",
     "output_type": "stream",
     "text": [
      "eres mayor de edad\n"
     ]
    }
   ],
   "source": [
    "edad= int(input(\"introducir tu edad\"))\n",
    "if edad >=18:\n",
    "    print(\"eres mayor de edad\")\n",
    "else:\n",
    "    print( \"eres menor de edad\")\n",
    "\n"
   ]
  },
  {
   "cell_type": "markdown",
   "metadata": {},
   "source": [
    "6) Comprobar si el numero ingresado por el usuario es par o impar."
   ]
  },
  {
   "cell_type": "code",
   "execution_count": 19,
   "metadata": {},
   "outputs": [
    {
     "name": "stdout",
     "output_type": "stream",
     "text": [
      "es un numero impar\n"
     ]
    }
   ],
   "source": [
    "numero= int(input(\"introducir tu edad\"))\n",
    "if numero % 2==0:\n",
    "    print(\"es un numero par\")\n",
    "else:\n",
    "    print( \"es un numero impar\")"
   ]
  },
  {
   "cell_type": "markdown",
   "metadata": {},
   "source": [
    "7) Pedir al usuario que ingrese su dirección email y luego mostrar un mensaje indicando si la dirección es válida o no. Una dirección se considerará válida si contiene el símbolo \"@\"."
   ]
  },
  {
   "cell_type": "code",
   "execution_count": 21,
   "metadata": {},
   "outputs": [
    {
     "name": "stdout",
     "output_type": "stream",
     "text": [
      "la direccion de correo es valida\n"
     ]
    }
   ],
   "source": [
    "email= input(\"ingresar una direccion de correo electronico\")\n",
    "\n",
    "if(\"@\" in email):\n",
    "    print(\"la direccion de correo es valida\")\n",
    "else:\n",
    "    print(\"la direccion de correo es invalida\")"
   ]
  },
  {
   "cell_type": "markdown",
   "metadata": {},
   "source": [
    "8) Dado un número de dos cifras, diseñe un algoritmo que permita obtener el número invertido. Ejemplo, si se introduce 23 que muestre 32. (Recordar que las cadenas pueden tratarse como listas de caracteres)."
   ]
  },
  {
   "cell_type": "code",
   "execution_count": 6,
   "metadata": {},
   "outputs": [
    {
     "name": "stdout",
     "output_type": "stream",
     "text": [
      "numero invertido 32\n"
     ]
    }
   ],
   "source": [
    "numero= str(input(\"introducir un numero de 2 cifras\"))\n",
    "\n",
    "if len(numero)!=2:\n",
    "    print( \"por favor introduce unnumero de 2 cifras\")\n",
    "else:\n",
    "    numero_invertido=numero[1]+numero[0]\n",
    "\n",
    "    print(\"numero invertido\",numero_invertido)\n"
   ]
  },
  {
   "cell_type": "markdown",
   "metadata": {},
   "source": []
  },
  {
   "cell_type": "markdown",
   "metadata": {},
   "source": [
    "9) Crea un programa que pida al usuario dos números y muestre True si ambos son mayores que 10."
   ]
  },
  {
   "cell_type": "code",
   "execution_count": 9,
   "metadata": {},
   "outputs": [
    {
     "data": {
      "text/plain": [
       "False"
      ]
     },
     "execution_count": 9,
     "metadata": {},
     "output_type": "execute_result"
    }
   ],
   "source": [
    "numero1= int(input(\"introducir numero 1\"))\n",
    "numero2= int(input(\"introducir numero 2\"))\n",
    "\n",
    "numero1>10 and numero2>10\n"
   ]
  },
  {
   "cell_type": "markdown",
   "metadata": {},
   "source": [
    "10) Escribe un programa que verifique si un número ingresado por el usuario es divisible por 3 y por 5."
   ]
  },
  {
   "cell_type": "code",
   "execution_count": 19,
   "metadata": {},
   "outputs": [
    {
     "name": "stdout",
     "output_type": "stream",
     "text": [
      " 2 0\n",
      "no\n"
     ]
    }
   ],
   "source": [
    "numero3= int(input(\"introducir numero \"))\n",
    "\n",
    "div_tres=numero3%3 \n",
    "div_cinco=numero3%5\n",
    "\n",
    "#print(\"\",div_tres,div_cinco,)\n",
    "\n",
    "if div_tres==0 and div_cinco==0:\n",
    "    print(\"es divisible por 3 y por 5\")\n",
    "    \n",
    "else:\n",
    "    print(\"no es divisible por 3 y por 5\")\n",
    "\n"
   ]
  },
  {
   "cell_type": "markdown",
   "metadata": {},
   "source": [
    "11) Utilizando la información del punto 5, preguntar al usuario si posee carnet de conducir, luego verificar si puede conducir un automóvil."
   ]
  },
  {
   "cell_type": "code",
   "execution_count": 31,
   "metadata": {},
   "outputs": [
    {
     "name": "stdout",
     "output_type": "stream",
     "text": [
      "si puede conducir\n"
     ]
    }
   ],
   "source": [
    "pregunta= input(\"Posee carnet de conducir\")\n",
    "if ( pregunta==\"si\"):\n",
    "    if( edad>18):\n",
    "        print(\"si puede conducir\")\n",
    "    else:\n",
    "        print(\"no puede conducir\")\n",
    "else:\n",
    "    print(\"no puede conducir\")\n"
   ]
  },
  {
   "cell_type": "markdown",
   "metadata": {},
   "source": [
    "12) Pide al usuario un número y verifica si es positivo y no es mayor que 100."
   ]
  },
  {
   "cell_type": "code",
   "execution_count": 34,
   "metadata": {},
   "outputs": [
    {
     "data": {
      "text/plain": [
       "True"
      ]
     },
     "execution_count": 34,
     "metadata": {},
     "output_type": "execute_result"
    }
   ],
   "source": [
    "numero5= int(input(\"ingresar un numero\"))\n",
    "\n",
    "numero5>0 and numero5<100"
   ]
  },
  {
   "cell_type": "markdown",
   "metadata": {},
   "source": [
    "13) Crear un programa que valide si un número ingresado por el usuario es par y mayor que 20."
   ]
  },
  {
   "cell_type": "code",
   "execution_count": 38,
   "metadata": {},
   "outputs": [
    {
     "data": {
      "text/plain": [
       "False"
      ]
     },
     "execution_count": 38,
     "metadata": {},
     "output_type": "execute_result"
    }
   ],
   "source": [
    "numero6= int(input(\"ingresar un numero\"))\n",
    "\n",
    "(numero6 % 2 )==0 and numero6>20"
   ]
  },
  {
   "cell_type": "markdown",
   "metadata": {},
   "source": [
    "14) Dada la variable **numero = 5**, realizar la operación necesaria para que número sea igual a 8. Luego imprimir en pantalla el nuevo valor de número y realizar una nueva operación para que el valor de número sea igual a 4 y mostrar en pantalla el nuevo valor."
   ]
  },
  {
   "cell_type": "code",
   "execution_count": 49,
   "metadata": {},
   "outputs": [
    {
     "name": "stdout",
     "output_type": "stream",
     "text": [
      "numero 8.0\n",
      "numero 4.0\n"
     ]
    }
   ],
   "source": [
    "numero=5\n",
    "\n",
    "numero=numero *8/5\n",
    "\n",
    "print(\"numero\",numero)\n",
    "\n",
    "numero=numero/2\n",
    "\n",
    "print(\"numero\", numero)"
   ]
  },
  {
   "cell_type": "markdown",
   "metadata": {},
   "source": [
    "15) Dadas las variables altura = \"10\" y base = 5, calcular el área de un triángulo y mostrar el resultado en pantalla. ¿Por qué el resultado es un error? ¿Cómo lo corregirías?"
   ]
  },
  {
   "cell_type": "code",
   "execution_count": 40,
   "metadata": {},
   "outputs": [
    {
     "name": "stdout",
     "output_type": "stream",
     "text": [
      " 25.0\n"
     ]
    }
   ],
   "source": [
    "#no se puede calcular porque altura es un string\n",
    "altura =\"10\"\n",
    "base=5\n",
    "area= int( altura)*base/2\n",
    "print(\"\",area)"
   ]
  },
  {
   "cell_type": "markdown",
   "metadata": {},
   "source": [
    "16) Crea un programa que calcule el promedio de tres calificaciones ingresadas por el usuario, y comprobar si el alumno aprobó o no (aprueba con nota mayor a 6)."
   ]
  },
  {
   "cell_type": "code",
   "execution_count": 42,
   "metadata": {},
   "outputs": [
    {
     "name": "stdout",
     "output_type": "stream",
     "text": [
      "no aprobo 4.0\n"
     ]
    }
   ],
   "source": [
    "nota1= int(input(\"ingresar nota1\"))\n",
    "nota2= int(input(\"ingresar nota2\"))\n",
    "nota3= int(input(\"ingresar nota3\"))\n",
    "\n",
    "notafinal=(nota1+nota2+nota3)/3\n",
    "notafinal>6\n",
    "if(notafinal>6):\n",
    "    print(\"aprobo\",notafinal)\n",
    "else:\n",
    "    print(\"no aprobo\",notafinal)\n"
   ]
  },
  {
   "cell_type": "markdown",
   "metadata": {},
   "source": [
    "17) Pide al usuario su edad y calcula cuántos días, horas y minutos ha vivido aproximadamente (asumiendo 365 días por año)."
   ]
  },
  {
   "cell_type": "code",
   "execution_count": 45,
   "metadata": {},
   "outputs": [
    {
     "name": "stdout",
     "output_type": "stream",
     "text": [
      "has vivido aproximadamente\n",
      "Dias 17520\n",
      "horas 420480\n",
      "minutos 25228800\n"
     ]
    }
   ],
   "source": [
    "añosvividos= int(input(\"ingresar edad\"))\n",
    "\n",
    "diasvividos=añosvividos*365\n",
    "horasvividas=diasvividos*24\n",
    "minutosvividos=horasvividas*60\n",
    "\n",
    "\n",
    "print (\"has vivido aproximadamente\")\n",
    "print(\"Dias\",diasvividos)\n",
    "print(\"horas\",horasvividas)\n",
    "print(\"minutos\",minutosvividos)"
   ]
  },
  {
   "cell_type": "markdown",
   "metadata": {},
   "source": [
    "18) Crea un programa que verifique si un número ingresado por el usuario es múltiplo de 4 y de 6 al mismo tiempo."
   ]
  },
  {
   "cell_type": "code",
   "execution_count": 48,
   "metadata": {},
   "outputs": [
    {
     "data": {
      "text/plain": [
       "True"
      ]
     },
     "execution_count": 48,
     "metadata": {},
     "output_type": "execute_result"
    }
   ],
   "source": [
    "numero10= int(input(\"ingresar numero\"))\n",
    "\n",
    "(numero10 % 4 )==0 and numero10 %6 ==0\n",
    "\n",
    "\n"
   ]
  },
  {
   "cell_type": "markdown",
   "metadata": {},
   "source": [
    "19) "
   ]
  }
 ],
 "metadata": {
  "kernelspec": {
   "display_name": "Python 3",
   "language": "python",
   "name": "python3"
  },
  "language_info": {
   "codemirror_mode": {
    "name": "ipython",
    "version": 3
   },
   "file_extension": ".py",
   "mimetype": "text/x-python",
   "name": "python",
   "nbconvert_exporter": "python",
   "pygments_lexer": "ipython3",
   "version": "3.12.2"
  }
 },
 "nbformat": 4,
 "nbformat_minor": 2
}
